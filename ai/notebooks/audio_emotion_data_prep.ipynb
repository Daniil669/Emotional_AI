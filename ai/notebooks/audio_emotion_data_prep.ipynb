{
  "nbformat": 4,
  "nbformat_minor": 0,
  "metadata": {
    "colab": {
      "provenance": []
    },
    "kernelspec": {
      "name": "python3",
      "display_name": "Python 3"
    },
    "language_info": {
      "name": "python"
    }
  },
  "cells": [
    {
      "cell_type": "code",
      "execution_count": null,
      "metadata": {
        "id": "7dbphb5zJBSv",
        "colab": {
          "base_uri": "https://localhost:8080/"
        },
        "outputId": "2383107c-c231-4bdf-b210-a6ae496df1b7"
      },
      "outputs": [
        {
          "output_type": "stream",
          "name": "stdout",
          "text": [
            "Mounted at /content/drive\n"
          ]
        }
      ],
      "source": [
        "from google.colab import drive\n",
        "drive.mount('/content/drive')\n"
      ]
    },
    {
      "cell_type": "code",
      "source": [
        "!pip install pandas soundfile speechbrain\n"
      ],
      "metadata": {
        "id": "Rj-XE5KKYL-b",
        "colab": {
          "base_uri": "https://localhost:8080/"
        },
        "outputId": "72048707-f409-49d8-fb18-278904759a97"
      },
      "execution_count": null,
      "outputs": [
        {
          "output_type": "stream",
          "name": "stdout",
          "text": [
            "Requirement already satisfied: pandas in /usr/local/lib/python3.11/dist-packages (2.2.2)\n",
            "Requirement already satisfied: soundfile in /usr/local/lib/python3.11/dist-packages (0.13.1)\n",
            "Requirement already satisfied: speechbrain in /usr/local/lib/python3.11/dist-packages (1.0.3)\n",
            "Requirement already satisfied: numpy>=1.23.2 in /usr/local/lib/python3.11/dist-packages (from pandas) (2.0.2)\n",
            "Requirement already satisfied: python-dateutil>=2.8.2 in /usr/local/lib/python3.11/dist-packages (from pandas) (2.9.0.post0)\n",
            "Requirement already satisfied: pytz>=2020.1 in /usr/local/lib/python3.11/dist-packages (from pandas) (2025.2)\n",
            "Requirement already satisfied: tzdata>=2022.7 in /usr/local/lib/python3.11/dist-packages (from pandas) (2025.2)\n",
            "Requirement already satisfied: cffi>=1.0 in /usr/local/lib/python3.11/dist-packages (from soundfile) (1.17.1)\n",
            "Requirement already satisfied: hyperpyyaml in /usr/local/lib/python3.11/dist-packages (from speechbrain) (1.2.2)\n",
            "Requirement already satisfied: joblib in /usr/local/lib/python3.11/dist-packages (from speechbrain) (1.5.1)\n",
            "Requirement already satisfied: packaging in /usr/local/lib/python3.11/dist-packages (from speechbrain) (25.0)\n",
            "Requirement already satisfied: scipy in /usr/local/lib/python3.11/dist-packages (from speechbrain) (1.16.1)\n",
            "Requirement already satisfied: sentencepiece in /usr/local/lib/python3.11/dist-packages (from speechbrain) (0.2.0)\n",
            "Requirement already satisfied: torch>=1.9 in /usr/local/lib/python3.11/dist-packages (from speechbrain) (2.6.0+cu124)\n",
            "Requirement already satisfied: torchaudio in /usr/local/lib/python3.11/dist-packages (from speechbrain) (2.6.0+cu124)\n",
            "Requirement already satisfied: tqdm in /usr/local/lib/python3.11/dist-packages (from speechbrain) (4.67.1)\n",
            "Requirement already satisfied: huggingface_hub in /usr/local/lib/python3.11/dist-packages (from speechbrain) (0.34.3)\n",
            "Requirement already satisfied: pycparser in /usr/local/lib/python3.11/dist-packages (from cffi>=1.0->soundfile) (2.22)\n",
            "Requirement already satisfied: six>=1.5 in /usr/local/lib/python3.11/dist-packages (from python-dateutil>=2.8.2->pandas) (1.17.0)\n",
            "Requirement already satisfied: filelock in /usr/local/lib/python3.11/dist-packages (from torch>=1.9->speechbrain) (3.18.0)\n",
            "Requirement already satisfied: typing-extensions>=4.10.0 in /usr/local/lib/python3.11/dist-packages (from torch>=1.9->speechbrain) (4.14.1)\n",
            "Requirement already satisfied: networkx in /usr/local/lib/python3.11/dist-packages (from torch>=1.9->speechbrain) (3.5)\n",
            "Requirement already satisfied: jinja2 in /usr/local/lib/python3.11/dist-packages (from torch>=1.9->speechbrain) (3.1.6)\n",
            "Requirement already satisfied: fsspec in /usr/local/lib/python3.11/dist-packages (from torch>=1.9->speechbrain) (2025.3.0)\n",
            "Requirement already satisfied: nvidia-cuda-nvrtc-cu12==12.4.127 in /usr/local/lib/python3.11/dist-packages (from torch>=1.9->speechbrain) (12.4.127)\n",
            "Requirement already satisfied: nvidia-cuda-runtime-cu12==12.4.127 in /usr/local/lib/python3.11/dist-packages (from torch>=1.9->speechbrain) (12.4.127)\n",
            "Requirement already satisfied: nvidia-cuda-cupti-cu12==12.4.127 in /usr/local/lib/python3.11/dist-packages (from torch>=1.9->speechbrain) (12.4.127)\n",
            "Requirement already satisfied: nvidia-cudnn-cu12==9.1.0.70 in /usr/local/lib/python3.11/dist-packages (from torch>=1.9->speechbrain) (9.1.0.70)\n",
            "Requirement already satisfied: nvidia-cublas-cu12==12.4.5.8 in /usr/local/lib/python3.11/dist-packages (from torch>=1.9->speechbrain) (12.4.5.8)\n",
            "Requirement already satisfied: nvidia-cufft-cu12==11.2.1.3 in /usr/local/lib/python3.11/dist-packages (from torch>=1.9->speechbrain) (11.2.1.3)\n",
            "Requirement already satisfied: nvidia-curand-cu12==10.3.5.147 in /usr/local/lib/python3.11/dist-packages (from torch>=1.9->speechbrain) (10.3.5.147)\n",
            "Requirement already satisfied: nvidia-cusolver-cu12==11.6.1.9 in /usr/local/lib/python3.11/dist-packages (from torch>=1.9->speechbrain) (11.6.1.9)\n",
            "Requirement already satisfied: nvidia-cusparse-cu12==12.3.1.170 in /usr/local/lib/python3.11/dist-packages (from torch>=1.9->speechbrain) (12.3.1.170)\n",
            "Requirement already satisfied: nvidia-cusparselt-cu12==0.6.2 in /usr/local/lib/python3.11/dist-packages (from torch>=1.9->speechbrain) (0.6.2)\n",
            "Requirement already satisfied: nvidia-nccl-cu12==2.21.5 in /usr/local/lib/python3.11/dist-packages (from torch>=1.9->speechbrain) (2.21.5)\n",
            "Requirement already satisfied: nvidia-nvtx-cu12==12.4.127 in /usr/local/lib/python3.11/dist-packages (from torch>=1.9->speechbrain) (12.4.127)\n",
            "Requirement already satisfied: nvidia-nvjitlink-cu12==12.4.127 in /usr/local/lib/python3.11/dist-packages (from torch>=1.9->speechbrain) (12.4.127)\n",
            "Requirement already satisfied: triton==3.2.0 in /usr/local/lib/python3.11/dist-packages (from torch>=1.9->speechbrain) (3.2.0)\n",
            "Requirement already satisfied: sympy==1.13.1 in /usr/local/lib/python3.11/dist-packages (from torch>=1.9->speechbrain) (1.13.1)\n",
            "Requirement already satisfied: mpmath<1.4,>=1.1.0 in /usr/local/lib/python3.11/dist-packages (from sympy==1.13.1->torch>=1.9->speechbrain) (1.3.0)\n",
            "Requirement already satisfied: pyyaml>=5.1 in /usr/local/lib/python3.11/dist-packages (from huggingface_hub->speechbrain) (6.0.2)\n",
            "Requirement already satisfied: requests in /usr/local/lib/python3.11/dist-packages (from huggingface_hub->speechbrain) (2.32.3)\n",
            "Requirement already satisfied: hf-xet<2.0.0,>=1.1.3 in /usr/local/lib/python3.11/dist-packages (from huggingface_hub->speechbrain) (1.1.7)\n",
            "Requirement already satisfied: ruamel.yaml>=0.17.28 in /usr/local/lib/python3.11/dist-packages (from hyperpyyaml->speechbrain) (0.18.14)\n",
            "Requirement already satisfied: ruamel.yaml.clib>=0.2.7 in /usr/local/lib/python3.11/dist-packages (from ruamel.yaml>=0.17.28->hyperpyyaml->speechbrain) (0.2.12)\n",
            "Requirement already satisfied: MarkupSafe>=2.0 in /usr/local/lib/python3.11/dist-packages (from jinja2->torch>=1.9->speechbrain) (3.0.2)\n",
            "Requirement already satisfied: charset-normalizer<4,>=2 in /usr/local/lib/python3.11/dist-packages (from requests->huggingface_hub->speechbrain) (3.4.2)\n",
            "Requirement already satisfied: idna<4,>=2.5 in /usr/local/lib/python3.11/dist-packages (from requests->huggingface_hub->speechbrain) (3.10)\n",
            "Requirement already satisfied: urllib3<3,>=1.21.1 in /usr/local/lib/python3.11/dist-packages (from requests->huggingface_hub->speechbrain) (2.5.0)\n",
            "Requirement already satisfied: certifi>=2017.4.17 in /usr/local/lib/python3.11/dist-packages (from requests->huggingface_hub->speechbrain) (2025.8.3)\n"
          ]
        }
      ]
    },
    {
      "cell_type": "code",
      "source": [
        "import zipfile\n",
        "from pathlib import Path\n",
        "\n",
        "ravdess_zip = Path(\"/content/drive/MyDrive/emotional_ai/raw/ravdess.zip\")\n",
        "extract_path = Path(\"/content/drive/MyDrive/emotional_ai/data/audio/ravdess/wav\")\n",
        "\n",
        "extract_path.mkdir(parents=True, exist_ok=True)\n",
        "\n",
        "with zipfile.ZipFile(ravdess_zip, 'r') as zip_ref:\n",
        "    zip_ref.extractall(extract_path)\n",
        "\n",
        "print(f\"Extracted RAVDESS to {extract_path}\")\n"
      ],
      "metadata": {
        "colab": {
          "base_uri": "https://localhost:8080/"
        },
        "id": "VXppT59mLwBY",
        "outputId": "05d3f8ad-c018-40fe-c19e-027ffd0812be"
      },
      "execution_count": null,
      "outputs": [
        {
          "output_type": "stream",
          "name": "stdout",
          "text": [
            "Extracted RAVDESS to /content/drive/MyDrive/emotional_ai/data/audio/ravdess/wav\n"
          ]
        }
      ]
    },
    {
      "cell_type": "code",
      "source": [
        "import os\n",
        "from pathlib import Path\n",
        "import re\n",
        "import json\n",
        "import pandas as pd\n",
        "import soundfile as sf\n",
        "from sklearn.model_selection import train_test_split\n",
        "\n",
        "\n",
        "# Paths\n",
        "BASE = Path(\"/content/drive/MyDrive/emotional_ai\")\n",
        "DATA_DIR = BASE / \"data\" / \"audio\" / \"ravdess\"\n",
        "AUDIO_ROOT = DATA_DIR / \"wav\"            # point to your extracted wavs\n",
        "META_DIR = DATA_DIR / \"meta\"             # where CSVs will go\n",
        "META_DIR.mkdir(parents=True, exist_ok=True)\n",
        "\n",
        "\n",
        "# RAVDESS parsing helpers\n",
        "emotion_map = {\n",
        "    \"01\": \"neutral\",\n",
        "    \"02\": \"calm\",\n",
        "    \"03\": \"happy\",\n",
        "    \"04\": \"sad\",\n",
        "    \"05\": \"angry\",\n",
        "    \"06\": \"fearful\",\n",
        "    \"07\": \"disgust\",\n",
        "    \"08\": \"surprised\",\n",
        "}\n",
        "\n",
        "def parse_ravdess(fname: str):\n",
        "    # expects \"MM-VC-EM-IE-ST-RI-AC.wav\"\n",
        "    stem = Path(fname).stem\n",
        "    parts = stem.split(\"-\")\n",
        "    if len(parts) != 7:\n",
        "        return None\n",
        "    mm, vc, em, ie, st, ri, ac = parts\n",
        "    emotion = emotion_map.get(em, \"unknown\")\n",
        "    modality = {\"01\":\"audiovisual\",\"02\":\"video\",\"03\":\"audio\"}.get(mm, \"unknown\")\n",
        "    vocal = \"speech\" if vc == \"01\" else \"song\"\n",
        "    return dict(emotion=emotion, modality=modality, vocal=vocal)\n",
        "\n",
        "\n",
        "# Collect AUDIO + SPEECH files\n",
        "rows = []\n",
        "for p in AUDIO_ROOT.rglob(\"*.wav\"):\n",
        "    meta = parse_ravdess(p.name)\n",
        "    if not meta:\n",
        "        continue\n",
        "    if meta[\"modality\"] == \"audio\" and meta[\"vocal\"] == \"speech\" and meta[\"emotion\"] != \"unknown\":\n",
        "        rows.append({\"path\": str(p), \"emotion\": meta[\"emotion\"]})\n",
        "\n",
        "df = pd.DataFrame(rows)\n",
        "if df.empty:\n",
        "    raise RuntimeError(f\"No RAVDESS files found under {AUDIO_ROOT}. Check the path/extraction.\")\n",
        "\n",
        "# Duration (needed by SpeechBrain)\n",
        "def get_duration_sec(wav_path: str) -> float:\n",
        "    info = sf.info(wav_path)\n",
        "    return float(info.frames) / float(info.samplerate)\n",
        "\n",
        "df[\"duration\"] = df[\"path\"].apply(get_duration_sec)\n",
        "\n",
        "# Stable ID for each row (SpeechBrain requires unique IDs)\n",
        "def make_id(path: str) -> str:\n",
        "    # e.g., Actor_01/03-01-05-01-02-01-01.wav → 03_01_05_01_02_01_01\n",
        "    return re.sub(r\"[^a-zA-Z0-9]+\", \"_\", Path(path).stem)\n",
        "\n",
        "df[\"ID\"] = df[\"path\"].apply(make_id)\n",
        "\n",
        "# Keep only SpeechBrain columns: ID,wav,duration,emotion\n",
        "sb_df = df[[\"ID\", \"path\", \"duration\", \"emotion\"]].rename(columns={\"path\": \"wav\"})\n",
        "\n",
        "# Stratified split by emotion-\n",
        "train_df, temp_df = train_test_split(\n",
        "    sb_df, test_size=0.2, random_state=42, stratify=sb_df[\"emotion\"]\n",
        ")\n",
        "valid_df, test_df = train_test_split(\n",
        "    temp_df, test_size=0.5, random_state=42, stratify=temp_df[\"emotion\"]\n",
        ")\n",
        "\n",
        "\n",
        "# Save SpeechBrain CSVs\n",
        "train_csv = META_DIR / \"train.csv\"\n",
        "valid_csv = META_DIR / \"valid.csv\"\n",
        "test_csv  = META_DIR / \"test.csv\"\n",
        "\n",
        "train_df.to_csv(train_csv, index=False)\n",
        "valid_df.to_csv(valid_csv, index=False)\n",
        "test_df.to_csv(test_csv, index=False)\n",
        "\n",
        "print(f\"Saved:\\n- {train_csv}\\n- {valid_csv}\\n- {test_csv}\")\n",
        "\n",
        "\n",
        "# Save class list for consistency\n",
        "labels = sorted(sb_df[\"emotion\"].unique())\n",
        "with open(META_DIR / \"labels.json\", \"w\") as f:\n",
        "    json.dump(labels, f, indent=2)\n",
        "print(\"Saved labels.json with classes:\", labels)\n",
        "\n",
        "\n",
        "# Quick sanity checks\n",
        "def show_counts(name, d):\n",
        "    print(f\"\\n{name} size: {len(d)}\")\n",
        "    print(d[\"emotion\"].value_counts().sort_index())\n",
        "\n",
        "show_counts(\"Train\", train_df)\n",
        "show_counts(\"Valid\", valid_df)\n",
        "show_counts(\"Test\", test_df)"
      ],
      "metadata": {
        "colab": {
          "base_uri": "https://localhost:8080/"
        },
        "id": "A9mgIjy_G_1i",
        "outputId": "1c380999-7704-4c73-9134-31ac0b68a81e"
      },
      "execution_count": null,
      "outputs": [
        {
          "output_type": "stream",
          "name": "stdout",
          "text": [
            "Saved:\n",
            "- /content/drive/MyDrive/emotional_ai/data/audio/ravdess/meta/train.csv\n",
            "- /content/drive/MyDrive/emotional_ai/data/audio/ravdess/meta/valid.csv\n",
            "- /content/drive/MyDrive/emotional_ai/data/audio/ravdess/meta/test.csv\n",
            "Saved labels.json with classes: ['angry', 'calm', 'disgust', 'fearful', 'happy', 'neutral', 'sad', 'surprised']\n",
            "\n",
            "Train size: 2304\n",
            "emotion\n",
            "angry        308\n",
            "calm         307\n",
            "disgust      307\n",
            "fearful      307\n",
            "happy        307\n",
            "neutral      154\n",
            "sad          307\n",
            "surprised    307\n",
            "Name: count, dtype: int64\n",
            "\n",
            "Valid size: 288\n",
            "emotion\n",
            "angry        38\n",
            "calm         39\n",
            "disgust      39\n",
            "fearful      38\n",
            "happy        38\n",
            "neutral      19\n",
            "sad          38\n",
            "surprised    39\n",
            "Name: count, dtype: int64\n",
            "\n",
            "Test size: 288\n",
            "emotion\n",
            "angry        38\n",
            "calm         38\n",
            "disgust      38\n",
            "fearful      39\n",
            "happy        39\n",
            "neutral      19\n",
            "sad          39\n",
            "surprised    38\n",
            "Name: count, dtype: int64\n"
          ]
        }
      ]
    }
  ]
}